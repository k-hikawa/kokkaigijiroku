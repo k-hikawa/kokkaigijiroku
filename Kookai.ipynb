{
 "cells": [
  {
   "cell_type": "code",
   "execution_count": 2,
   "metadata": {
    "collapsed": true
   },
   "outputs": [],
   "source": [
    "#可視化に必要なライブラリをインポート\n",
    "import matplotlib.pyplot as plt \n",
    "from sklearn.manifold import TSNE\n",
    "import numpy as np\n",
    "import pandas as pd\n",
    "\n",
    "#モデルの読み込み\n",
    "from gensim.models import word2vec\n",
    "model = word2vec.Word2Vec.load(\"./gijirokumodel/gijiroku1990.model\")"
   ]
  },
  {
   "cell_type": "code",
   "execution_count": 3,
   "metadata": {
    "collapsed": false
   },
   "outputs": [
    {
     "name": "stdout",
     "output_type": "stream",
     "text": [
      "我が国 0.7474303245544434\n",
      "アメリカ 0.6762400269508362\n",
      "世界 0.674961268901825\n",
      "自国 0.6513574123382568\n",
      "ソ連 0.6271026134490967\n",
      "日本人 0.6195231080055237\n",
      "王国 0.6076284646987915\n",
      "ソビエト 0.5927807092666626\n",
      "ミャンマー 0.5829697251319885\n",
      "わが国 0.5716739296913147\n"
     ]
    },
    {
     "name": "stderr",
     "output_type": "stream",
     "text": [
      "/Users/hikawa/.pyenv/versions/anaconda3-4.2.0/lib/python3.5/site-packages/ipykernel/__main__.py:1: DeprecationWarning: Call to deprecated `most_similar` (Method will be removed in 4.0.0, use self.wv.most_similar() instead).\n",
      "  if __name__ == '__main__':\n"
     ]
    }
   ],
   "source": [
    "results = model.most_similar(positive=[\"日本\"],topn=10)\n",
    "name = []\n",
    "num = []\n",
    "for result in results:\n",
    "    print(result[0],result[1])\n",
    "    name.append(result[0])\n",
    "    num.append(result[1])\n",
    "    \n",
    "df = pd.DataFrame({\n",
    "        '名前' : name,\n",
    "        '類似度' : num\n",
    "    })\n",
    "\n",
    "df.to_csv(\"date.csv\", index=False, encoding=\"shift_jis\", mode='w', header=False)    "
   ]
  },
  {
   "cell_type": "code",
   "execution_count": 56,
   "metadata": {
    "collapsed": false
   },
   "outputs": [],
   "source": [
    "o = pd.DataFrame(index=[], columns=[])"
   ]
  },
  {
   "cell_type": "code",
   "execution_count": 66,
   "metadata": {
    "collapsed": false
   },
   "outputs": [],
   "source": [
    "o = None"
   ]
  },
  {
   "cell_type": "code",
   "execution_count": 68,
   "metadata": {
    "collapsed": false
   },
   "outputs": [
    {
     "ename": "SyntaxError",
     "evalue": "invalid syntax (<ipython-input-68-56efe2de92d6>, line 1)",
     "output_type": "error",
     "traceback": [
      "\u001b[0;36m  File \u001b[0;32m\"<ipython-input-68-56efe2de92d6>\"\u001b[0;36m, line \u001b[0;32m1\u001b[0m\n\u001b[0;31m    if !o is None:\u001b[0m\n\u001b[0m       ^\u001b[0m\n\u001b[0;31mSyntaxError\u001b[0m\u001b[0;31m:\u001b[0m invalid syntax\n"
     ]
    }
   ],
   "source": [
    "if o is None:\n",
    "    print(0)\n",
    "else:\n",
    "    print(1)"
   ]
  },
  {
   "cell_type": "code",
   "execution_count": null,
   "metadata": {
    "collapsed": true
   },
   "outputs": [],
   "source": []
  }
 ],
 "metadata": {
  "anaconda-cloud": {},
  "kernelspec": {
   "display_name": "Python [default]",
   "language": "python",
   "name": "python3"
  },
  "language_info": {
   "codemirror_mode": {
    "name": "ipython",
    "version": 3
   },
   "file_extension": ".py",
   "mimetype": "text/x-python",
   "name": "python",
   "nbconvert_exporter": "python",
   "pygments_lexer": "ipython3",
   "version": "3.5.2"
  }
 },
 "nbformat": 4,
 "nbformat_minor": 1
}
